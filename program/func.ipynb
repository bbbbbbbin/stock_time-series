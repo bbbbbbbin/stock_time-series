{
 "cells": [
  {
   "cell_type": "code",
   "execution_count": 1,
   "metadata": {},
   "outputs": [],
   "source": [
    "import numpy as np\n",
    "import pandas as pd\n",
    "import matplotlib.pyplot as plt\n",
    "from statsmodels.tsa.stattools import adfuller     # 平稳性检验\n",
    "import seaborn as sns\n",
    "import statsmodels.api as sm\n",
    "from statsmodels.stats.diagnostic import acorr_ljungbox\n",
    "from statsmodels.tsa.arima_model import ARMA\n",
    "import warnings\n",
    "from pywt import wavedec,waverec\n",
    "warnings.filterwarnings(\"ignore\")"
   ]
  },
  {
   "cell_type": "code",
   "execution_count": 2,
   "metadata": {},
   "outputs": [],
   "source": [
    "# 平稳性检验\n",
    "def adfTest(data):\n",
    "    dftest = adfuller(data)\n",
    "    if dftest[1] < 0.001:\n",
    "        return True\n",
    "    else:\n",
    "        return False"
   ]
  },
  {
   "cell_type": "code",
   "execution_count": 3,
   "metadata": {},
   "outputs": [],
   "source": [
    "# ACF和PACF\n",
    "def acf_pacf_Test(data,n):\n",
    "    acf,q,p = sm.tsa.acf(data,nlags=n,qstat=True)\n",
    "    pacf = sm.tsa.acf(data,nlags=n)\n",
    "    out = np.c_[range(1,n+1), acf[1:], pacf[1:], q, p]\n",
    "    output=pd.DataFrame(out, columns=['lag', \"AC\", \"PAC\", \"Q\", \"P-value\"])\n",
    "    return output"
   ]
  },
  {
   "cell_type": "code",
   "execution_count": 4,
   "metadata": {},
   "outputs": [],
   "source": [
    "# 返回各回归评估参数值MSE,RMSE,MAE,R2\n",
    "def evaluationValue(data_true,data_predict):\n",
    "    mse = np.sum((data_predict-data_true)**2) / len(data_true)\n",
    "    rmse = np.sqrt(mse)\n",
    "    mae = np.sum(np.absolute(data_predict-data_true)) / len(data_true)\n",
    "    r2 = 1- mse / np.var(data_true)\n",
    "    out = np.c_[1, mse, rmse, mae, r2]\n",
    "    output=pd.DataFrame(out, columns=['index', \"MSE\", \"RMSE\", \"MAE\", \"R2\"])\n",
    "    return output"
   ]
  },
  {
   "cell_type": "code",
   "execution_count": 5,
   "metadata": {},
   "outputs": [],
   "source": [
    "# 差分处理,默认最大为5阶\n",
    "def bestDiff(df, maxdiff = 6):\n",
    "    temp = df.copy()\n",
    "    first_values = []\n",
    "    for i in range(0, maxdiff):\n",
    "        if i == 0:\n",
    "            temp['diff'] = temp[temp.columns[0]]\n",
    "        else:\n",
    "            first_values.append(pd.Series([temp['diff'][1]],index=[temp['diff'].index[0]]))\n",
    "            temp['diff'] = temp['diff'].diff(1)\n",
    "            temp = temp.dropna() #差分后，前几行的数据会变成nan，所以删掉\n",
    "            # print(temp['diff'],'\\n')\n",
    "        if adfTest(temp['diff']):\n",
    "            bestdiff = i\n",
    "            return temp['diff'],first_values\n",
    "        else:\n",
    "            continue\n",
    "    return temp['diff'],first_values"
   ]
  },
  {
   "cell_type": "code",
   "execution_count": 6,
   "metadata": {},
   "outputs": [],
   "source": [
    "# 差分恢复\n",
    "def recoverDiff(df_diff,first_values):\n",
    "    df_restored = df_diff\n",
    "    for first in reversed(first_values):\n",
    "        df_restored = first.append(df_restored).cumsum()\n",
    "    return df_restored"
   ]
  },
  {
   "cell_type": "code",
   "execution_count": 7,
   "metadata": {},
   "outputs": [],
   "source": [
    "# HP分解\n",
    "def hpFilter(data,l=1600):\n",
    "    cycles, trend = sm.tsa.filters.hpfilter(data,l)\n",
    "    return cycles,trend"
   ]
  },
  {
   "cell_type": "code",
   "execution_count": 8,
   "metadata": {},
   "outputs": [],
   "source": [
    "# DW检验\n",
    "def evaluationDW(resid):\n",
    "    return sm.stats.durbin_watson(resid)"
   ]
  },
  {
   "cell_type": "code",
   "execution_count": 9,
   "metadata": {},
   "outputs": [],
   "source": [
    "# 小波分解\n",
    "def waveletFilter(data,level,func='db4'):\n",
    "    coeffs = wavedec(data, func, level=level)\n",
    "    return coeffs"
   ]
  },
  {
   "cell_type": "code",
   "execution_count": 10,
   "metadata": {},
   "outputs": [],
   "source": [
    "# 小波恢复\n",
    "def recoverWavelet(coeffs,func='db4'):\n",
    "    data = waverec(coeffs, func)\n",
    "    return data"
   ]
  },
  {
   "cell_type": "code",
   "execution_count": 11,
   "metadata": {},
   "outputs": [],
   "source": [
    "# 模型评估,滚动预测\n",
    "def evaluationModle(data,order,train_size=-1):\n",
    "    if train_size == -1:    \n",
    "        train_size = int(len(data) * 0.66)\n",
    "    train, test = data[0:train_size], data[train_size:]\n",
    "    history = [x for x in train]\n",
    "    predictions = list()\n",
    "    for t in range(len(test)):\n",
    "        model = ARMA(history, order=order)\n",
    "        model_fit = model.fit(disp=0)\n",
    "        yhat = model_fit.forecast()[0]\n",
    "        predictions.append(yhat[0])\n",
    "        history.append(test[t])\n",
    "    error = evaluationValue(test, predictions)\n",
    "    # print(predictions)\n",
    "    sns.lineplot(np.array(list(range(len(predictions)))),np.array(predictions),color='r')\n",
    "    sns.lineplot(np.array(list(range(len(test)))),test,color='b')\n",
    "    plt.show()\n",
    "    return error,predictions"
   ]
  },
  {
   "cell_type": "code",
   "execution_count": 12,
   "metadata": {},
   "outputs": [],
   "source": [
    "# 模型PQ选择，方法1（使用评估参数）\n",
    "def chooseModels1(data, maxlag=5,method='MSE'):\n",
    "    best_score, best_cfg = float(\"inf\"), None\n",
    "    for p in np.arange(maxlag):\n",
    "        for q in np.arange(maxlag):\n",
    "            order = (p,q)\n",
    "            try:\n",
    "                error,predictions = evaluationModle(data, order)\n",
    "                # print(order, error[method].values)\n",
    "                if error[method].values < best_score:\n",
    "                    best_score, best_cfg = error[method].values, order\n",
    "            except:\n",
    "                # print(order,'error')\n",
    "                continue\n",
    "    return best_score,best_cfg"
   ]
  },
  {
   "cell_type": "code",
   "execution_count": 13,
   "metadata": {},
   "outputs": [],
   "source": [
    "# 模型PQ选择，方法2（使用aic,bic,hqic）\n",
    "def chooseModels2(data, maxlag=5,method='aic'):\n",
    "    best_score, best_cfg = float(\"inf\"), None\n",
    "    for p in np.arange(maxlag):\n",
    "        for q in np.arange(maxlag):\n",
    "            order = (p,q)\n",
    "            model = ARMA(data, order=order)\n",
    "            try:\n",
    "                results_ARMA = model.fit(disp=0)\n",
    "                if method == 'aic':\n",
    "                    score = results_ARMA.aic\n",
    "                elif method == 'bic':\n",
    "                    score = results_ARMA.bic\n",
    "                elif method == 'hqic':\n",
    "                    score = results_ARMA.hqic\n",
    "                print(order, score)\n",
    "                if score < best_score:\n",
    "                    best_score, best_cfg = score, order\n",
    "            except:\n",
    "                print(order, 'error')\n",
    "                continue\n",
    "    return best_score,best_cfg"
   ]
  },
  {
   "cell_type": "code",
   "execution_count": 14,
   "metadata": {},
   "outputs": [],
   "source": [
    "# 模型拟合\n",
    "def fitModel(data,order):\n",
    "    model = ARMA(data,order=order)\n",
    "    model_result = model.fit(disp=0)\n",
    "    return model,model_result"
   ]
  },
  {
   "cell_type": "code",
   "execution_count": 15,
   "metadata": {},
   "outputs": [],
   "source": [
    "# 模型检验\n",
    "def modelBLQ(model_result,n):\n",
    "    output = acf_pacf_Test(model_result.resid,n)['P-value']\n",
    "    for i in range(len(output)):\n",
    "        if output[i] < 0.05:\n",
    "            return False\n",
    "        return True"
   ]
  },
  {
   "cell_type": "code",
   "execution_count": 16,
   "metadata": {},
   "outputs": [],
   "source": [
    "# 向内模型预测\n",
    "def forcastInModel(model_result):\n",
    "    train_predict = model_result.predict()\n",
    "    return train_predict"
   ]
  },
  {
   "cell_type": "code",
   "execution_count": 17,
   "metadata": {},
   "outputs": [],
   "source": [
    "# 向外模型预测\n",
    "def forcastOutModel(model_result,step):\n",
    "    train_predict,b,train_predict_conf_int = model_result.forecast(step)\n",
    "    return train_predict,train_predict_conf_int"
   ]
  },
  {
   "cell_type": "code",
   "execution_count": null,
   "metadata": {},
   "outputs": [],
   "source": []
  }
 ],
 "metadata": {
  "kernelspec": {
   "display_name": "Python 3",
   "language": "python",
   "name": "python3"
  },
  "language_info": {
   "codemirror_mode": {
    "name": "ipython",
    "version": 3
   },
   "file_extension": ".py",
   "mimetype": "text/x-python",
   "name": "python",
   "nbconvert_exporter": "python",
   "pygments_lexer": "ipython3",
   "version": "3.6.8"
  }
 },
 "nbformat": 4,
 "nbformat_minor": 2
}
